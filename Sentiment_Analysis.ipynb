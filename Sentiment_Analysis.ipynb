{
  "nbformat": 4,
  "nbformat_minor": 0,
  "metadata": {
    "colab": {
      "name": "Sentiment Analysis.ipynb",
      "provenance": [],
      "toc_visible": true,
      "authorship_tag": "ABX9TyPOmrvWMJsKiC6wwYKXxGLt",
      "include_colab_link": true
    },
    "kernelspec": {
      "name": "python3",
      "display_name": "Python 3"
    },
    "language_info": {
      "name": "python"
    }
  },
  "cells": [
    {
      "cell_type": "markdown",
      "metadata": {
        "id": "view-in-github",
        "colab_type": "text"
      },
      "source": [
        "<a href=\"https://colab.research.google.com/github/diego51alejo/Sentiment_Analysis/blob/master/Sentiment_Analysis.ipynb\" target=\"_parent\"><img src=\"https://colab.research.google.com/assets/colab-badge.svg\" alt=\"Open In Colab\"/></a>"
      ]
    },
    {
      "cell_type": "markdown",
      "source": [
        "# **Sentiment Analysis**\n",
        "\n",
        "Classification of books reviews, the first step is a binary classification(positive or negative), the second step is multiclass classification, contain four grades (1,2,4,5).\n",
        "\n",
        "\n",
        "DataSet Amazon [link data](https://www.cs.jhu.edu/~mdredze/datasets/sentiment/)\n",
        "\n",
        "\n"
      ],
      "metadata": {
        "id": "ptR47ZY4Yq45"
      }
    },
    {
      "cell_type": "markdown",
      "source": [
        "## Binary Classification"
      ],
      "metadata": {
        "id": "cT4xEwBCY05Y"
      }
    },
    {
      "cell_type": "markdown",
      "source": [
        "### Data Load"
      ],
      "metadata": {
        "id": "YBQaGZwdZBVH"
      }
    },
    {
      "cell_type": "code",
      "execution_count": 162,
      "metadata": {
        "colab": {
          "base_uri": "https://localhost:8080/"
        },
        "id": "wcSjrhYXhHhV",
        "outputId": "b3d2b035-da82-4d9b-9a52-3082d4a33cec"
      },
      "outputs": [
        {
          "output_type": "stream",
          "name": "stdout",
          "text": [
            "Drive already mounted at /content/drive/; to attempt to forcibly remount, call drive.mount(\"/content/drive/\", force_remount=True).\n"
          ]
        }
      ],
      "source": [
        "#Conection drive\n",
        "from google.colab import drive\n",
        "drive.mount('/content/drive/')"
      ]
    },
    {
      "cell_type": "code",
      "source": [
        "%cd '/content/drive/My Drive/Colab Notebooks/NLTK'"
      ],
      "metadata": {
        "colab": {
          "base_uri": "https://localhost:8080/"
        },
        "id": "WTIPTEvIjMc0",
        "outputId": "197f0765-9337-4153-a8d9-85b2404189a8"
      },
      "execution_count": 163,
      "outputs": [
        {
          "output_type": "stream",
          "name": "stdout",
          "text": [
            "/content/drive/My Drive/Colab Notebooks/NLTK\n"
          ]
        }
      ]
    },
    {
      "cell_type": "code",
      "source": [
        "import tarfile\n",
        "\n",
        "file = tarfile.open('processed_acl.tar.gz')\n",
        "file.extractall('./data_reviews')\n",
        "file.close()"
      ],
      "metadata": {
        "id": "if16xhqDqGtI"
      },
      "execution_count": 164,
      "outputs": []
    },
    {
      "cell_type": "code",
      "source": [
        "negative_file = open('data_reviews/processed_acl/books/negative.review', 'r').read()\n",
        "positive_file = open('data_reviews/processed_acl/books/positive.review', 'r').read()"
      ],
      "metadata": {
        "id": "VqbW5Mr3t5i8"
      },
      "execution_count": 165,
      "outputs": []
    },
    {
      "cell_type": "markdown",
      "source": [
        "### Select features"
      ],
      "metadata": {
        "id": "ODRs36FfZ2Vd"
      }
    },
    {
      "cell_type": "code",
      "source": [
        "import pandas as pd\n",
        "import nltk\n",
        "import random\n",
        "import numpy as np"
      ],
      "metadata": {
        "id": "qYhL9Ahn1Y_m"
      },
      "execution_count": 166,
      "outputs": []
    },
    {
      "cell_type": "code",
      "source": [
        "tokens = []\n",
        "\n",
        "for review in negative_file.split('\\n'):\n",
        "  for list_words in review.split(' ') : \n",
        "    for w in list_words.split(' '):\n",
        "      word= w.split(':')\n",
        "      tokens.append(word[0])\n",
        "      \n",
        "for review in positive_file.split('\\n'):\n",
        "  \n",
        "  for list_words in review.split(' ') : \n",
        "    for w in list_words.split(' '):\n",
        "      word= w.split(':')\n",
        "      tokens.append(word[0])"
      ],
      "metadata": {
        "id": "mrQ2F7jmPsFn"
      },
      "execution_count": 167,
      "outputs": []
    },
    {
      "cell_type": "code",
      "source": [
        "all_words = nltk.FreqDist(tokens)"
      ],
      "metadata": {
        "id": "d5f5wmdJXN_y"
      },
      "execution_count": 168,
      "outputs": []
    },
    {
      "cell_type": "code",
      "source": [
        "top_words = [w for w in set(tokens) if all_words[w]>50]"
      ],
      "metadata": {
        "id": "rTuJNO72K9-W"
      },
      "execution_count": 169,
      "outputs": []
    },
    {
      "cell_type": "code",
      "source": [
        "sentences = []\n",
        "labels = []\n",
        "\n",
        "for review in negative_file.split('#label#:negative\\n'):\n",
        "  list_sentences = {w_c.split(':')[0]: int(w_c.split(':')[1]) for w_c in review.split(' ') if len(w_c.split(':'))==2}\n",
        "  list_review = []\n",
        "  for word in  top_words:\n",
        "    if word in list_sentences.keys():\n",
        "      list_review.append(list_sentences[word])\n",
        "    else:\n",
        "      list_review.append(0)\n",
        "\n",
        "  sentences.append(list_review)\n",
        "  labels.append('negative')\n",
        "\n",
        "for review in positive_file.split('#label#:positive\\n'):\n",
        "  list_sentences = {w_c.split(':')[0]: int(w_c.split(':')[1]) for w_c in review.split(' ') if len(w_c.split(':'))==2}\n",
        "  list_review = []\n",
        "  for word in  top_words:\n",
        "    if word in list_sentences.keys():\n",
        "      list_review.append(list_sentences[word])\n",
        "    else:\n",
        "      list_review.append(0)\n",
        "\n",
        "  sentences.append(list_review)\n",
        "  labels.append('positive')\n",
        "\n",
        "\n",
        "sentences = np.array(sentences)\n"
      ],
      "metadata": {
        "id": "C1LTZHAr1BIZ"
      },
      "execution_count": 170,
      "outputs": []
    },
    {
      "cell_type": "code",
      "source": [
        "sentences.shape"
      ],
      "metadata": {
        "colab": {
          "base_uri": "https://localhost:8080/"
        },
        "id": "YoRsFWjZvZBZ",
        "outputId": "7eec7471-4d0d-478b-e072-43027e6ca616"
      },
      "execution_count": 171,
      "outputs": [
        {
          "output_type": "execute_result",
          "data": {
            "text/plain": [
              "(2002, 813)"
            ]
          },
          "metadata": {},
          "execution_count": 171
        }
      ]
    },
    {
      "cell_type": "markdown",
      "source": [
        "### Train and Evaluate model"
      ],
      "metadata": {
        "id": "0GYP6n-WaVcr"
      }
    },
    {
      "cell_type": "code",
      "source": [
        "from sklearn.model_selection import cross_val_score"
      ],
      "metadata": {
        "id": "DBtGgzPFbA5U"
      },
      "execution_count": 184,
      "outputs": []
    },
    {
      "cell_type": "code",
      "source": [
        "from sklearn.model_selection import train_test_split\n",
        "\n",
        "x_train, x_test, y_train, y_test = train_test_split(sentences, labels, test_size=0.2, random_state=42)"
      ],
      "metadata": {
        "id": "swCPZ23YvG2K"
      },
      "execution_count": 172,
      "outputs": []
    },
    {
      "cell_type": "code",
      "source": [
        "from sklearn.ensemble import RandomForestClassifier\n",
        "classifier = RandomForestClassifier(n_estimators=250, criterion='entropy').fit(x_train, y_train)\n",
        "scores = cross_val_score(classifier, x_test, y_test, cv=5)\n",
        "scores"
      ],
      "metadata": {
        "id": "yy0HywNlKwVc",
        "colab": {
          "base_uri": "https://localhost:8080/"
        },
        "outputId": "1c9828f4-f2aa-4854-93ad-6140630fe8a1"
      },
      "execution_count": 182,
      "outputs": [
        {
          "output_type": "execute_result",
          "data": {
            "text/plain": [
              "array([0.79012346, 0.7375    , 0.7125    , 0.675     , 0.7625    ])"
            ]
          },
          "metadata": {},
          "execution_count": 182
        }
      ]
    },
    {
      "cell_type": "code",
      "source": [
        "from sklearn.naive_bayes import GaussianNB\n",
        "gnb = GaussianNB().fit(x_train, y_train)\n",
        "gnb.score(x_test, y_test)\n",
        "scores = cross_val_score(gnb, x_test, y_test, cv=5)\n",
        "scores"
      ],
      "metadata": {
        "colab": {
          "base_uri": "https://localhost:8080/"
        },
        "id": "GFr0lElyaX4M",
        "outputId": "8bed72be-2009-4f92-ddfa-c5aca5e4728b"
      },
      "execution_count": 178,
      "outputs": [
        {
          "output_type": "execute_result",
          "data": {
            "text/plain": [
              "array([0.60493827, 0.6125    , 0.55      , 0.625     , 0.675     ])"
            ]
          },
          "metadata": {},
          "execution_count": 178
        }
      ]
    },
    {
      "cell_type": "code",
      "source": [
        "from sklearn.metrics import confusion_matrix\n",
        "import seaborn as sns\n",
        "\n",
        "cm = confusion_matrix(y_test, classifier.predict(x_test))\n",
        "group_names = ['Verdaderos Negativos','Falsos positivos','Falsos Negativos','Verdaderos positivos']\n",
        "group_counts = [\"{0:0.0f}\".format(value) for value in\n",
        "                cm.flatten()]\n",
        "group_percentages = [\"{0:.2%}\".format(value) for value in\n",
        "                     cm.flatten()/np.sum(cm)]\n",
        "\n",
        "labels = [f'{v1}\\n{v2}\\n{v3}' for v1, v2, v3 in zip(group_names,group_counts,group_percentages)]\n",
        "labels = np.asarray(labels).reshape(2,2)\n",
        "\n",
        "sns.heatmap(cm, annot=labels,fmt='', cmap='Blues')"
      ],
      "metadata": {
        "colab": {
          "base_uri": "https://localhost:8080/",
          "height": 284
        },
        "id": "npbzVpK-KzR0",
        "outputId": "4331ebec-c739-44bc-9f10-40e3a4b82ee7"
      },
      "execution_count": 183,
      "outputs": [
        {
          "output_type": "execute_result",
          "data": {
            "text/plain": [
              "<matplotlib.axes._subplots.AxesSubplot at 0x7fe713f83f90>"
            ]
          },
          "metadata": {},
          "execution_count": 183
        },
        {
          "output_type": "display_data",
          "data": {
            "image/png": "[encoded data removed]",
            "text/plain": [
              "<Figure size 432x288 with 2 Axes>"
            ]
          },
          "metadata": {
            "needs_background": "light"
          }
        }
      ]
    },
    {
      "cell_type": "markdown",
      "source": [
        "## Multiclass Classification"
      ],
      "metadata": {
        "id": "sbnKc0M6adA7"
      }
    },
    {
      "cell_type": "markdown",
      "source": [
        "### Data Load"
      ],
      "metadata": {
        "id": "IWr2ATrRa2xw"
      }
    },
    {
      "cell_type": "code",
      "source": [
        "from google.colab import drive\n",
        "drive.mount('/content/drive/')"
      ],
      "metadata": {
        "colab": {
          "base_uri": "https://localhost:8080/"
        },
        "id": "WuGer5-cPwke",
        "outputId": "aed77182-5b8c-4419-9227-382e0c8f09c3"
      },
      "execution_count": null,
      "outputs": [
        {
          "output_type": "stream",
          "name": "stdout",
          "text": [
            "Mounted at /content/drive/\n"
          ]
        }
      ]
    },
    {
      "cell_type": "code",
      "source": [
        "%cd '/content/drive/My Drive/Colab Notebooks/NLTK'"
      ],
      "metadata": {
        "colab": {
          "base_uri": "https://localhost:8080/"
        },
        "id": "E1ZyDALJcqKc",
        "outputId": "053424dc-43c6-4f4c-e6a8-6a1aa061fc16"
      },
      "execution_count": null,
      "outputs": [
        {
          "output_type": "stream",
          "name": "stdout",
          "text": [
            "/content/drive/My Drive/Colab Notebooks/NLTK\n"
          ]
        }
      ]
    },
    {
      "cell_type": "code",
      "source": [
        "test = open('processed_stars/books/test', 'r').read()\n",
        "train = open('processed_stars/books/train', 'r').read()"
      ],
      "metadata": {
        "id": "fSeil64Scs2y"
      },
      "execution_count": null,
      "outputs": []
    },
    {
      "cell_type": "markdown",
      "source": [
        "### Select features"
      ],
      "metadata": {
        "id": "XZuXvzJ5TPVY"
      }
    },
    {
      "cell_type": "code",
      "source": [
        "import pandas as pd\n",
        "import nltk\n",
        "from nltk.probability import FreqDist\n",
        "from nltk import bigrams, ngrams\n",
        "import random\n",
        "import numpy as np"
      ],
      "metadata": {
        "id": "vnnw8lprQGB1"
      },
      "execution_count": null,
      "outputs": []
    },
    {
      "cell_type": "code",
      "source": [
        "vocab = []\n",
        "\n",
        "for review in train.split('\\n'):\n",
        "  for word_count in review.split(' '):\n",
        "    word = word_count.split(':')[0]\n",
        "    vocab.append(word)"
      ],
      "metadata": {
        "id": "UatFAiwMQHgb"
      },
      "execution_count": null,
      "outputs": []
    },
    {
      "cell_type": "code",
      "source": [
        "words_FreqDist = FreqDist(vocab) \n",
        "top_words = [w for w in set(vocab) if words_FreqDist[w] > 120]"
      ],
      "metadata": {
        "id": "j27rsQfZS80x"
      },
      "execution_count": null,
      "outputs": []
    },
    {
      "cell_type": "code",
      "source": [
        "all_bigrams = bigrams(vocab)\n",
        "freq_bigrams = FreqDist(all_bigrams)\n",
        "top_bigrams = [w for w in set(bigrams(vocab)) if freq_bigrams[w] > 15]"
      ],
      "metadata": {
        "id": "jiar4DoL_L_P"
      },
      "execution_count": null,
      "outputs": []
    },
    {
      "cell_type": "code",
      "source": [
        "all_trigrams = ngrams(vocab,3)\n",
        "freq_trigrams = FreqDist(all_trigrams)\n",
        "top_trigrams = [w for w in set(ngrams(vocab,3)) if freq_trigrams[w] > 8]"
      ],
      "metadata": {
        "id": "iXUqpPNVRCDC"
      },
      "execution_count": null,
      "outputs": []
    },
    {
      "cell_type": "code",
      "source": [
        "vectors_train = []\n",
        "labels_train = []\n",
        "\n",
        "for review in train.split('\\n'):\n",
        "  vector = []\n",
        "  list_sentences = {w_c.split(':')[0]: float(w_c.split(':')[1]) for w_c in review.split(' ') if len(w_c.split(':'))==2}\n",
        "  label = review.split(' ')[-1]\n",
        "  labels_train.append(label)\n",
        "  for word in top_words:\n",
        "    if word in list_sentences.keys():\n",
        "      vector.append(list_sentences[word])\n",
        "    else:\n",
        "      vector.append(0)\n",
        "  \n",
        "  \n",
        "  vocab_review = []\n",
        "\n",
        "  for freqword in review.split(' '):\n",
        "    if len(freqword.split(':'))==2:\n",
        "      freqword_split = freqword.split(':')\n",
        "      word = freqword[0]\n",
        "      vocab_review.append(word)\n",
        "  \n",
        "  freq_bigrams_review = FreqDist(vocab_review)\n",
        "  for bigram in top_bigrams:\n",
        "    if bigram in freq_bigrams_review.keys():\n",
        "      vector.append(freq_bigrams_review[bigram])\n",
        "    else:\n",
        "      vector.append(0)\n",
        "\n",
        "  freq_trigrams_review = FreqDist(vocab_review)\n",
        "  for trigram in top_trigrams:\n",
        "    if trigram in freq_trigrams_review.keys():\n",
        "      vector.append(freq_trigrams_review[trigram])\n",
        "    else:\n",
        "      vector.append(0) \n",
        "        \n",
        "  vectors_train.append(vector)\n",
        "  \n",
        "\n",
        "vectors_test = []\n",
        "labels_test = []\n",
        "\n",
        "for review in test.split('\\n'):\n",
        "  vector = []\n",
        "  list_sentences = {w_c.split(':')[0]: float(w_c.split(':')[1]) for w_c in review.split(' ') if len(w_c.split(':'))==2}\n",
        "  label = review.split(' ')[-1]\n",
        "  labels_test.append(label)\n",
        "  for word in top_words:\n",
        "    if word in list_sentences.keys():\n",
        "      vector.append(list_sentences[word])\n",
        "    else:\n",
        "      vector.append(0)\n",
        "\n",
        "\n",
        "  vocab_review = []\n",
        "\n",
        "  for freqword in review.split(' '):\n",
        "    if len(freqword.split(':'))==2:\n",
        "      freqword_split = freqword.split(':')\n",
        "      word = freqword[0]\n",
        "      vocab_review.append(word)\n",
        "  \n",
        "  freq_bigrams_review = FreqDist(vocab_review)\n",
        "  for bigram in top_bigrams:\n",
        "    if bigram in freq_bigrams_review.keys():\n",
        "      vector.append(freq_bigrams_review[bigram])\n",
        "    else:\n",
        "      vector.append(0)  \n",
        "\n",
        "  freq_trigrams_review = FreqDist(vocab_review)\n",
        "  for trigram in top_trigrams:\n",
        "    if trigram in freq_trigrams_review.keys():\n",
        "      vector.append(freq_trigrams_review[trigram])\n",
        "    else:\n",
        "      vector.append(0)     \n",
        "        \n",
        "  vectors_test.append(vector)"
      ],
      "metadata": {
        "id": "xJUhJCRVdirP"
      },
      "execution_count": null,
      "outputs": []
    },
    {
      "cell_type": "code",
      "source": [
        "vectors_test.pop()\n",
        "labels_test.pop()\n",
        "vectors_train.pop()\n",
        "labels_train.pop()\n",
        "\n",
        "vectors_train = np.array(vectors_train)\n",
        "vectors_test = np.array(vectors_test)"
      ],
      "metadata": {
        "id": "omx5tsrra4IK"
      },
      "execution_count": null,
      "outputs": []
    },
    {
      "cell_type": "code",
      "source": [
        "label_train = []\n",
        "label_test = []\n",
        "\n",
        "for grade in labels_train:\n",
        "  label_train.append(float(grade.split(':')[-1]))\n",
        "\n",
        "for grade in labels_test:\n",
        "  label_test.append(float(grade.split(':')[-1]))"
      ],
      "metadata": {
        "id": "hIEp9P5X1wur"
      },
      "execution_count": null,
      "outputs": []
    },
    {
      "cell_type": "markdown",
      "source": [
        "### Train and Evaluate model"
      ],
      "metadata": {
        "id": "iRJUcc3uzRfL"
      }
    },
    {
      "cell_type": "code",
      "source": [
        "from sklearn.model_selection import cross_val_score"
      ],
      "metadata": {
        "id": "6l8rv1cwTDXy"
      },
      "execution_count": null,
      "outputs": []
    },
    {
      "cell_type": "code",
      "source": [
        "from sklearn.ensemble import RandomForestClassifier\n",
        "classifier = RandomForestClassifier(n_estimators=150, criterion='entropy').fit(vectors_train, label_train)\n",
        "scores = cross_val_score(classifier, vectors_train, label_train, cv=5)\n",
        "scores"
      ],
      "metadata": {
        "colab": {
          "base_uri": "https://localhost:8080/"
        },
        "id": "wsY9Fk1ezSF_",
        "outputId": "79cf2feb-2064-41b4-8d13-fc35666e0c7d"
      },
      "execution_count": null,
      "outputs": [
        {
          "output_type": "execute_result",
          "data": {
            "text/plain": [
              "array([0.92307692, 0.91818182, 0.91818182, 0.96818182, 0.95909091])"
            ]
          },
          "metadata": {},
          "execution_count": 159
        }
      ]
    },
    {
      "cell_type": "code",
      "source": [
        "from sklearn.neighbors import KNeighborsClassifier\n",
        "neigh = KNeighborsClassifier(n_neighbors=4).fit(vectors_train, label_train)\n",
        "scores = cross_val_score(neigh, vectors_train, label_train, cv=5)\n",
        "scores"
      ],
      "metadata": {
        "colab": {
          "base_uri": "https://localhost:8080/"
        },
        "id": "AWJjDZQJzmDA",
        "outputId": "e2ebcbb4-2135-4cc2-f960-34b7dbde3de1"
      },
      "execution_count": null,
      "outputs": [
        {
          "output_type": "execute_result",
          "data": {
            "text/plain": [
              "array([0.47058824, 0.52272727, 0.46363636, 0.47272727, 0.54545455])"
            ]
          },
          "metadata": {},
          "execution_count": 148
        }
      ]
    },
    {
      "cell_type": "code",
      "source": [
        "from sklearn.naive_bayes import GaussianNB\n",
        "gnb = GaussianNB().fit(vectors_train, label_train)\n",
        "gnb.score(vectors_test, label_test)\n",
        "scores = cross_val_score(gnb, vectors_train, label_train, cv=5)\n",
        "scores"
      ],
      "metadata": {
        "colab": {
          "base_uri": "https://localhost:8080/"
        },
        "id": "Dmz9rbyv8fmA",
        "outputId": "2633e15c-3283-4b39-fa9a-8c9da5b485dc"
      },
      "execution_count": null,
      "outputs": [
        {
          "output_type": "execute_result",
          "data": {
            "text/plain": [
              "array([1., 1., 1., 1., 1.])"
            ]
          },
          "metadata": {},
          "execution_count": 149
        }
      ]
    },
    {
      "cell_type": "code",
      "source": [
        "from sklearn.naive_bayes import BernoulliNB\n",
        "bnb = BernoulliNB().fit(vectors_train, label_train)\n",
        "bnb.score(vectors_test, label_test)"
      ],
      "metadata": {
        "colab": {
          "base_uri": "https://localhost:8080/"
        },
        "id": "hr-W3hLY-VKI",
        "outputId": "52e243c2-4d80-4ad2-9f92-74eace96f906"
      },
      "execution_count": null,
      "outputs": [
        {
          "output_type": "execute_result",
          "data": {
            "text/plain": [
              "0.3704545454545455"
            ]
          },
          "metadata": {},
          "execution_count": 144
        }
      ]
    },
    {
      "cell_type": "code",
      "source": [
        "from sklearn.naive_bayes import ComplementNB\n",
        "cnb = ComplementNB().fit(vectors_train, label_train)\n",
        "cnb.score(vectors_test, label_test)"
      ],
      "metadata": {
        "colab": {
          "base_uri": "https://localhost:8080/"
        },
        "id": "uqTVBoJK-qe_",
        "outputId": "231cbc5d-f7c5-43d7-bf34-31fda30a7406"
      },
      "execution_count": null,
      "outputs": [
        {
          "output_type": "execute_result",
          "data": {
            "text/plain": [
              "0.4781818181818182"
            ]
          },
          "metadata": {},
          "execution_count": 145
        }
      ]
    },
    {
      "cell_type": "code",
      "source": [
        "from sklearn.metrics import confusion_matrix\n",
        "import seaborn as sns\n",
        "\n",
        "cm = confusion_matrix(label_test, classifier.predict(vectors_test))\n",
        "\n",
        "group_counts = [\"{0:0.0f}\".format(value) for value in\n",
        "                cm.flatten()]\n",
        "group_percentages = [\"{0:.2%}\".format(value) for value in\n",
        "                     cm.flatten()/np.sum(cm)]\n",
        "\n",
        "labels = [f'{v1}\\n{v2}' for v1, v2 in zip(group_counts,group_percentages)]\n",
        "labels = np.asarray(labels).reshape(4,4)\n",
        "sns.heatmap(cm, annot=labels,fmt='', cmap='Blues')"
      ],
      "metadata": {
        "colab": {
          "base_uri": "https://localhost:8080/",
          "height": 284
        },
        "id": "T8YclDN-z5su",
        "outputId": "2d5956ca-0a50-44d9-db40-3a0e223533cb"
      },
      "execution_count": null,
      "outputs": [
        {
          "output_type": "execute_result",
          "data": {
            "text/plain": [
              "<matplotlib.axes._subplots.AxesSubplot at 0x7fe7276ad650>"
            ]
          },
          "metadata": {},
          "execution_count": 160
        },
        {
          "output_type": "display_data",
          "data": {
            "image/png": "[encoded data removed]",
            "text/plain": [
              "<Figure size 432x288 with 2 Axes>"
            ]
          },
          "metadata": {
            "needs_background": "light"
          }
        }
      ]
    }
  ]
}